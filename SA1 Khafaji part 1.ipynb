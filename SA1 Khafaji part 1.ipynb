{
 "cells": [
  {
   "cell_type": "code",
   "execution_count": 20,
   "id": "5acf14e6",
   "metadata": {},
   "outputs": [
    {
     "name": "stdout",
     "output_type": "stream",
     "text": [
      "Dataset saved to file.\n"
     ]
    }
   ],
   "source": [
    "import requests\n",
    "\n",
    "# URL of the raw dataset file on GitHub\n",
    "url = 'https://raw.githubusercontent.com/AllenDowney/ThinkPython2/master/code/words.txt'\n",
    "\n",
    "# Send a GET request to the URL\n",
    "response = requests.get(url)\n",
    "\n",
    "# Check if the request was successful\n",
    "if response.status_code == 200:\n",
    "    # Save the content of the response to a file\n",
    "    with open('words.txt', 'wb') as f:\n",
    "        f.write(response.content)\n",
    "        print('Dataset saved to file.')\n",
    "else:\n",
    "    print('Failed to download dataset.')"
   ]
  },
  {
   "cell_type": "code",
   "execution_count": 21,
   "id": "a7ada286",
   "metadata": {},
   "outputs": [],
   "source": [
    "wordSet = []\n",
    "fileOB = open('words.txt',\"r\")\n",
    "lines = fileOB.read().splitlines()\n",
    "for line in lines:\n",
    "    wordSet.extend(line.split())"
   ]
  },
  {
   "cell_type": "code",
   "execution_count": 22,
   "id": "3dedf4f8",
   "metadata": {
    "scrolled": true
   },
   "outputs": [
    {
     "name": "stdout",
     "output_type": "stream",
     "text": [
      "The amount of words inside the file is  113783\n"
     ]
    }
   ],
   "source": [
    "amount = len(wordSet)\n",
    "print(\"The amount of words inside the file is \", str(amount))"
   ]
  },
  {
   "cell_type": "code",
   "execution_count": 25,
   "id": "8f753363",
   "metadata": {},
   "outputs": [
    {
     "name": "stdout",
     "output_type": "stream",
     "text": [
      "Enter a letter to find how many numbers in the file starts with that letter: a\n",
      "\n",
      "There are  6557  letters starting with  a\n"
     ]
    }
   ],
   "source": [
    "findLetter = input(\"Enter a letter to find how many numbers in the file starts with that letter: \")\n",
    "count=0\n",
    "for x in wordSet:\n",
    "    if x[0]==findLetter:\n",
    "        count+=1\n",
    "\n",
    "print(\"\\nThere are \", count,\" letters starting with \", findLetter)"
   ]
  },
  {
   "cell_type": "code",
   "execution_count": 34,
   "id": "e8cb9861",
   "metadata": {
    "scrolled": true
   },
   "outputs": [
    {
     "name": "stdout",
     "output_type": "stream",
     "text": [
      "aa\n",
      "aba\n",
      "aga\n",
      "aha\n",
      "ala\n",
      "alula\n",
      "ama\n",
      "ana\n",
      "anna\n",
      "ava\n",
      "awa\n",
      "bib\n",
      "bob\n",
      "boob\n",
      "bub\n",
      "civic\n",
      "dad\n",
      "deed\n",
      "deified\n",
      "deked\n",
      "deled\n",
      "denned\n",
      "dewed\n",
      "did\n",
      "dud\n",
      "eke\n",
      "eme\n",
      "ere\n",
      "eve\n",
      "ewe\n",
      "eye\n",
      "gag\n",
      "gig\n",
      "hah\n",
      "halalah\n",
      "hallah\n",
      "huh\n",
      "kaiak\n",
      "kayak\n",
      "keek\n",
      "kook\n",
      "level\n",
      "madam\n",
      "marram\n",
      "mem\n",
      "mim\n",
      "minim\n",
      "mom\n",
      "mum\n",
      "noon\n",
      "nun\n",
      "oho\n",
      "otto\n",
      "pap\n",
      "peep\n",
      "pep\n",
      "pip\n",
      "poop\n",
      "pop\n",
      "pup\n",
      "radar\n",
      "redder\n",
      "refer\n",
      "reifier\n",
      "repaper\n",
      "reviver\n",
      "rotator\n",
      "rotor\n",
      "sagas\n",
      "sees\n",
      "selles\n",
      "sememes\n",
      "semes\n",
      "seres\n",
      "sexes\n",
      "shahs\n",
      "sis\n",
      "solos\n",
      "sos\n",
      "stets\n",
      "tat\n",
      "tenet\n",
      "terret\n",
      "tit\n",
      "toot\n",
      "tot\n",
      "tut\n",
      "vav\n",
      "waw\n",
      "wow\n",
      "yay\n"
     ]
    }
   ],
   "source": [
    "##palindromes\n",
    "reverseWords=[x[::-1] for x in wordSet]\n",
    "palindromes=[]\n",
    "\n",
    "for p in wordSet:\n",
    "    if p==p[::-1]:\n",
    "        print(p)\n",
    "        "
   ]
  },
  {
   "cell_type": "code",
   "execution_count": 51,
   "id": "bd559134",
   "metadata": {},
   "outputs": [
    {
     "name": "stdout",
     "output_type": "stream",
     "text": [
      "['counterdemonstrations', 'hyperaggressivenesses', 'microminiaturizations']\n"
     ]
    }
   ],
   "source": [
    "#Print the longest word in the file.\n",
    "maxi=len(max(wordSet,key=len))\n",
    "maxiWords=[]\n",
    "for i in wordSet:\n",
    "    if len(i)==maxi:\n",
    "        maxiWords.append(i)\n",
    "        \n",
    "print(maxiWords)"
   ]
  },
  {
   "cell_type": "code",
   "execution_count": 63,
   "id": "7265b702",
   "metadata": {},
   "outputs": [
    {
     "name": "stdout",
     "output_type": "stream",
     "text": [
      "Enter substring you want to find in the list: posa\n",
      "the words with the substring you inputted are:  ['counterproposal', 'counterproposals', 'deposal', 'deposals', 'disposable', 'disposal', 'disposals', 'exposal', 'exposals', 'mariposa', 'mariposas', 'posada', 'posadas', 'proposal', 'proposals', 'reposal', 'reposals', 'supposal', 'supposals']\n"
     ]
    }
   ],
   "source": [
    "#Print all the words that contain a certain substring (use user input).\n",
    "substring = input(\"Enter substring you want to find in the list: \")\n",
    "newList=[i for i in wordSet if substring in i]\n",
    "\n",
    "print(\"the words with the substring you inputted are: \", newList)"
   ]
  },
  {
   "cell_type": "code",
   "execution_count": 69,
   "id": "369f2bc0",
   "metadata": {},
   "outputs": [
    {
     "name": "stdout",
     "output_type": "stream",
     "text": [
      "{'a': 68574, 'h': 20186, 'e': 106752, 'd': 34548, 'i': 77392, 'n': 60505, 'g': 27832, 's': 86526, 'l': 47003, 'r': 64963, 'v': 9186, 'k': 9366, 'w': 8533, 'o': 54538, 'f': 12706, 'b': 17794, 'c': 34281, 'u': 31151, 't': 57029, 'm': 24739, 'p': 25789, 'y': 13473, 'x': 2700, 'j': 1780, 'z': 3750, 'q': 1632}\n"
     ]
    }
   ],
   "source": [
    "#Count the frequency of each letter. \n",
    "from collections import Counter\n",
    "freq={}\n",
    "for i in wordSet:\n",
    "    for x in i:\n",
    "        if x in freq:\n",
    "            freq[x]+=1\n",
    "        else:\n",
    "            freq[x]=1\n",
    "            \n",
    "print(freq)\n",
    "            "
   ]
  }
 ],
 "metadata": {
  "kernelspec": {
   "display_name": "Python 3 (ipykernel)",
   "language": "python",
   "name": "python3"
  },
  "language_info": {
   "codemirror_mode": {
    "name": "ipython",
    "version": 3
   },
   "file_extension": ".py",
   "mimetype": "text/x-python",
   "name": "python",
   "nbconvert_exporter": "python",
   "pygments_lexer": "ipython3",
   "version": "3.9.13"
  }
 },
 "nbformat": 4,
 "nbformat_minor": 5
}
