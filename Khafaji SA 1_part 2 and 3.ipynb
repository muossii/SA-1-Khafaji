{
 "cells": [
  {
   "cell_type": "code",
   "execution_count": 45,
   "id": "de969240",
   "metadata": {},
   "outputs": [
    {
     "name": "stdout",
     "output_type": "stream",
     "text": [
      "How many digits of the fibonacci sequence do you want to compute? 100\n",
      "Time elapsed for recursion in nanoseconds is: 17780992.0\n",
      "Time elapsed for iteration in nanoseconds is: 0.0\n"
     ]
    }
   ],
   "source": [
    "import time\n",
    "\n",
    "digits = int(input(\"How many digits of the fibonacci sequence do you want to compute? \"))\n",
    "\n",
    "def recursive(digits,n,x,y):\n",
    "    #recursive\n",
    "    if n<digits:\n",
    "        if n==0:\n",
    "            s=0\n",
    "        elif n==1:\n",
    "            s=1\n",
    "        elif n>1:\n",
    "            s=x+y\n",
    "        recursive(digits,n+1,s,x)\n",
    "        \n",
    "def iteration(digits):\n",
    "    #iteration\n",
    "    n=0\n",
    "    a=0\n",
    "    b=0\n",
    "    while n<digits:\n",
    "        if n==0:\n",
    "            s=0\n",
    "        if n==1:\n",
    "            s=1\n",
    "        elif n>1:\n",
    "            s=a+b\n",
    "        a=b \n",
    "        b=s\n",
    "        n+=1\n",
    "            \n",
    "n=0\n",
    "x=0\n",
    "y=0\n",
    "\n",
    "tsrec=float(time.time_ns())\n",
    "recursive(digits,n,x,y)\n",
    "terec=float(time.time_ns())\n",
    "print(\"Time elapsed for recursion in nanoseconds is:\", terec-tsrec)\n",
    "\n",
    "tsit=float(time.time_ns())\n",
    "iteration(digits)\n",
    "teit=float(time.time_ns())\n",
    "print(\"Time elapsed for iteration in nanoseconds is:\", teit-tsit)\n",
    "\n",
    "##it takes longer for recursion to complete the process than iteration.)"
   ]
  },
  {
   "cell_type": "code",
   "execution_count": 43,
   "id": "47736c92",
   "metadata": {
    "scrolled": false
   },
   "outputs": [
    {
     "name": "stdout",
     "output_type": "stream",
     "text": [
      "term no. 0 is:  2\n",
      "term no. 1 is:  2.154\n",
      "term no. 2 is:  2.098\n",
      "term no. 3 is:  2.119\n",
      "term no. 4 is:  2.111\n",
      "term no. 5 is:  2.114\n",
      "term no. 6 is:  2.113\n",
      "term no. 7 is:  2.113\n"
     ]
    }
   ],
   "source": [
    "a=2\n",
    "n=1\n",
    "print(\"term no. 0 is: \", a)\n",
    "while True:\n",
    "    b=(20-(5*a))**(1./3)\n",
    "    b=round(b,3)\n",
    "    print(\"term no.\",n,\"is: \",b)\n",
    "    if (b-round(b))==(a-round(a)):\n",
    "        break\n",
    "    a=b\n",
    "    n+=1"
   ]
  },
  {
   "cell_type": "code",
   "execution_count": null,
   "id": "873a3c19",
   "metadata": {},
   "outputs": [],
   "source": []
  }
 ],
 "metadata": {
  "kernelspec": {
   "display_name": "Python 3 (ipykernel)",
   "language": "python",
   "name": "python3"
  },
  "language_info": {
   "codemirror_mode": {
    "name": "ipython",
    "version": 3
   },
   "file_extension": ".py",
   "mimetype": "text/x-python",
   "name": "python",
   "nbconvert_exporter": "python",
   "pygments_lexer": "ipython3",
   "version": "3.9.13"
  }
 },
 "nbformat": 4,
 "nbformat_minor": 5
}
